{
 "cells": [
  {
   "cell_type": "markdown",
   "metadata": {},
   "source": [
    "## Exercise 3 - Data sources\n",
    "- All files used in this exercise can be found under the Exercises/data_files directory"
   ]
  },
  {
   "cell_type": "markdown",
   "metadata": {},
   "source": [
    "1 Use gamedata.json for this task. This file contains information of games sold through Steam. Parse out the following information from the data:\n",
    "- TOP 3 highest metacritic score. Present results using the following format: *Title* has metacritic score of *Score* (for example)\n",
    "- Games with price discount being 90 % or more. Present results using the following format: *Title* | Discount: *Savings* (for example Metal Gear Solid V: Ground Zeroes | Discount: 90.090090)\n",
    "- Games having metacritic score higher than steam score. Present results using the following format: *Title* has metacritic score of *MetacriticScore* and steam score of *SteamRatingPercent*"
   ]
  },
  {
   "cell_type": "code",
   "execution_count": 1,
   "metadata": {},
   "outputs": [],
   "source": [
    "import json\n",
    "\n",
    "with open(\"gamedata.json\") as json_data:\n",
    "    games_json = json.load(json_data)\n",
    "    \n",
    "#games_json"
   ]
  },
  {
   "cell_type": "code",
   "execution_count": 2,
   "metadata": {},
   "outputs": [
    {
     "name": "stdout",
     "output_type": "stream",
     "text": [
      "STARWARSKNIGHTSOFTHEOLDREPUBLIC has metacritic score of: 93\n",
      "METALGEARSOLIDVTHEPHANTOMPAIN has metacritic score of: 91\n",
      "BAYONETTA has metacritic score of: 90\n"
     ]
    }
   ],
   "source": [
    "new_list = {}\n",
    "\n",
    "for i in games_json:\n",
    "    new_list[i['internalName']]=[i['metacriticScore']]\n",
    "\n",
    "my_keys = dict(sorted(new_list.items(), key=lambda item: item[1], reverse=True))\n",
    "\n",
    "g = 0\n",
    "for j in my_keys:\n",
    "    v = (my_keys[j][0])\n",
    "    if g <= 2:\n",
    "        print(\"{} has metacritic score of: {}\".format(j,v))\n",
    "        g += 1"
   ]
  },
  {
   "cell_type": "code",
   "execution_count": 3,
   "metadata": {},
   "outputs": [
    {
     "name": "stdout",
     "output_type": "stream",
     "text": [
      "AIRSCAPETHEFALLOFGRAVITY | Discount: 90.180361\n",
      "MAKINGHISTORYTHECALMANDTHESTORM | Discount: 90.180361\n",
      "PHANTARUK | Discount: 90.180361\n",
      "OOZIEARTHADVENTURE | Discount: 90.180361\n",
      "HOUSEOFCARAVAN | Discount: 90.180361\n",
      "AVENCASTRISEOFTHEMAGE | Discount: 90.090090\n",
      "TESLAGRAD | Discount: 90.090090\n",
      "LUCIUS | Discount: 90.090090\n",
      "THEWAY | Discount: 90.060040\n",
      "NEONSTRUCT | Discount: 90.050028\n",
      "METALGEARSOLIDVGROUNDZEROES | Discount: 90.045023\n",
      "WHITEWINGS | Discount: 90.045023\n",
      "THELONGJOURNEYHOME | Discount: 90.045023\n",
      "SHADOWTACTICSBLADESOFTHESHOGUN | Discount: 90.022506\n"
     ]
    }
   ],
   "source": [
    "new_list2 = {}\n",
    "\n",
    "for i in games_json:\n",
    "    new_list2[i['internalName']]=[i['savings']]\n",
    "\n",
    "my_keys2 = dict(sorted(new_list2.items(), key=lambda item: item[1], reverse=True))\n",
    " \n",
    "for k in my_keys2.keys():\n",
    "    value = (my_keys2[k][0])\n",
    "    if value >= \"90\":\n",
    "        print(\"{} | Discount: {}\".format(k,value))\n",
    "        "
   ]
  },
  {
   "cell_type": "code",
   "execution_count": 4,
   "metadata": {},
   "outputs": [
    {
     "name": "stdout",
     "output_type": "stream",
     "text": [
      "NBA2K21 has metacritic score of 67 and steam score of 39:\n",
      "COMMANDER85 has metacritic score of 45 and steam score of 35:\n",
      "INVERSION has metacritic score of 59 and steam score of 57:\n",
      "BIONICCOMMANDOREARMED has metacritic score of 86 and steam score of 71:\n",
      "METALGEARSOLIDVTHEPHANTOMPAIN has metacritic score of 91 and steam score of 90:\n",
      "PORTROYALE2 has metacritic score of 75 and steam score of 68:\n",
      "PROJECTCARS2 has metacritic score of 84 and steam score of 79:\n",
      "FULLSPECTRUMWARRIOR has metacritic score of 80 and steam score of 65:\n",
      "THELONGJOURNEYHOME has metacritic score of 68 and steam score of 60:\n",
      "STARWARSKNIGHTSOFTHEOLDREPUBLIC has metacritic score of 93 and steam score of 90:\n",
      "STARPOINTGEMINIWARLORDS has metacritic score of 73 and steam score of 72:\n",
      "TIDALIS has metacritic score of 75 and steam score of 70:\n"
     ]
    }
   ],
   "source": [
    "for i in games_json:\n",
    "    if i['metacriticScore'] > i['steamRatingPercent']:\n",
    "        print(\"{} has metacritic score of {} and steam score of {}:\".format(i['internalName'],i['metacriticScore'],i['steamRatingPercent']))\n",
    "    "
   ]
  },
  {
   "cell_type": "markdown",
   "metadata": {},
   "source": [
    "2 Use earthquakes.csv for this task. This file contains information about earthquakes recorded between 1965 and 2016. Earthquake magnitude value describes how strong the earthquake is. Magnitude information can be categorized like presented in the table below (*Source: http://www.geo.mtu.edu/UPSeis/magnitude.html*).\n",
    "\n",
    "| Magnitude      | Class | Effects |\n",
    "|----------------|-------|---------|\n",
    "| 2.4 or less    | Minor | Usually not felt, but can be recorded by seismograph. |\n",
    "| 2.5 to 5.4     | Light | Often felt, but only causes minor damage. |\n",
    "| 5.5 to 6.0     | Moderate | Slight damage to buildings and other structures. |\n",
    "| 6.1 to 6.9     | Strong | May cause a lot of damage in very populated areas. |\n",
    "| 7.0 to 7.9     | Major | Major earthquake. Serious damage. |\n",
    "| 8.0 or greater | Great | Great earthquake. Can totally destroy communities near the epicenter. |\n",
    "\n",
    "Count how many earthquakes have occurred in each class.\n",
    "\n",
    "<b style=\"color:red;\">Notice:</b> The first value has been modified to be 2.4 or less compared to the original source (has been 2.5 or less)."
   ]
  },
  {
   "cell_type": "code",
   "execution_count": 5,
   "metadata": {},
   "outputs": [
    {
     "name": "stdout",
     "output_type": "stream",
     "text": [
      "{'Minor': 0, 'Light': 0, 'Moderate': 17638, 'Strong': 5036, 'Major': 698, 'Great': 40}\n"
     ]
    }
   ],
   "source": [
    "import csv\n",
    "\n",
    "with open(\"earthquakes.csv\", \"r\") as file:\n",
    "    earthquakes = csv.reader(file)\n",
    "    collection = {\"Minor\":0, \"Light\":0, \"Moderate\":0, \"Strong\":0, \"Major\":0, \"Great\":0}\n",
    "    for row in earthquakes:\n",
    "        try:\n",
    "        \n",
    "            if float(row[8]) <= 2.4:\n",
    "                collection[\"Minor\"] += 1\n",
    "            elif float(row[8]) <= 5.4:\n",
    "                collection[\"Light\"] +=1\n",
    "            elif float(row[8]) <= 6.0:\n",
    "                collection[\"Moderate\"] +=1\n",
    "            elif float(row[8]) <= 6.9:\n",
    "                collection[\"Strong\"] +=1\n",
    "            elif float(row[8]) <= 7.9:\n",
    "                collection[\"Major\"] +=1\n",
    "            elif float(row[8]) >= 8.0:\n",
    "                collection[\"Great\"] +=1\n",
    "        except ValueError:\n",
    "            continue\n",
    "                \n",
    "print(collection)"
   ]
  },
  {
   "cell_type": "markdown",
   "metadata": {},
   "source": [
    "3 Use netflix_titles.xml for this task. This file contains information about Netflix movies and TV shows. **Important:** Movies have duration presented in minutes while TV shows have duration presented in amount of seasons! Parse out the following information from the data:\n",
    "- Movies released in 2017\n",
    "- TV show and movie amount (present both counts in separate lines)\n",
    "- Movies with a length between 15 and 20 minutes (values 15 and 20 included)"
   ]
  },
  {
   "cell_type": "code",
   "execution_count": 6,
   "metadata": {},
   "outputs": [],
   "source": [
    "import xml.etree.ElementTree as e"
   ]
  },
  {
   "cell_type": "code",
   "execution_count": 7,
   "metadata": {},
   "outputs": [
    {
     "name": "stdout",
     "output_type": "stream",
     "text": [
      "Amount of movies released in 2017: 744\n",
      "Amount of movies is: 5377\n",
      "Amount of TV shows is: 2410\n",
      "Amount of movies with length between 15 and 20 minutes is: 11\n"
     ]
    }
   ],
   "source": [
    "tree = e.parse(\"data_files/netflix_titles.xml\")\n",
    "root = tree.getroot()\n",
    "\n",
    "# create a list where to store elements\n",
    "lst = []\n",
    "\n",
    "# loop through root and add all in list\n",
    "titles = []\n",
    "for i in root[0]:\n",
    "    titles.append(i.tag)\n",
    "\n",
    "# add elements to a list\n",
    "for element in root:\n",
    "    j = {}\n",
    "    for subelementnum in range(len(element)):\n",
    "        j.update({titles[subelementnum]: element[subelementnum].text})\n",
    "    lst.append(j)\n",
    "\n",
    "# create a list where to store specific keys and values \n",
    "lst_filtered = []\n",
    "\n",
    "# loop through the list and add movies released in 2017\n",
    "for i in lst:\n",
    "    if ( i[\"type\"] == 'Movie') and ( int(i[\"release_year\"]) == 2017 ):\n",
    "        lst_filtered.append(i)\n",
    "        \n",
    "print('Amount of movies released in 2017: ' + str(len(lst_filtered)))\n",
    "\n",
    "# set variables \n",
    "movies = 0\n",
    "shows = 0\n",
    "shortmovies = 0\n",
    "\n",
    "# loop through the list to get amount of movies, tv shows and short movies \n",
    "for i in lst:\n",
    "    if (i[\"type\"] == 'Movie'):\n",
    "        movies += 1\n",
    "    if (i[\"type\"] == 'TV Show'):\n",
    "        shows += 1\n",
    "    if ( i[\"type\"] == 'Movie'):        \n",
    "        dur = int(i[\"duration\"][:-4])\n",
    "        if (15 <= dur) & (dur <= 20):\n",
    "            shortmovies +=1\n",
    "        \n",
    "print('Amount of movies is: ' + str(movies))\n",
    "print('Amount of TV shows is: ' + str(shows))\n",
    "print('Amount of movies with length between 15 and 20 minutes is: ' + str(shortmovies))"
   ]
  },
  {
   "cell_type": "markdown",
   "metadata": {},
   "source": [
    "4 Use the following Rest API for this task: https://tie.digitraffic.fi/api/v1/data/weather-data. Calculate the average for air temperature (ILMA) and humidity (ILMAN_KOSTEUS) values using two decimals."
   ]
  },
  {
   "cell_type": "code",
   "execution_count": 8,
   "metadata": {},
   "outputs": [],
   "source": [
    "import requests"
   ]
  },
  {
   "cell_type": "code",
   "execution_count": 9,
   "metadata": {},
   "outputs": [
    {
     "name": "stdout",
     "output_type": "stream",
     "text": [
      "Average airtemperature is 0.41\n",
      "Average humidity is 96.02\n"
     ]
    }
   ],
   "source": [
    "url = \"https://tie.digitraffic.fi/api/v1/data/weather-data\"\n",
    "\n",
    "req = requests.get(url=url)\n",
    "\n",
    "weather_data = req.json()\n",
    "#weather_data\n",
    "        \n",
    "ilma = []\n",
    "kosteus = []\n",
    "\n",
    "for i in weather_data['weatherStations']:\n",
    "    for j in i['sensorValues']:\n",
    "        if j['name'] == 'ILMA':\n",
    "            ilma.append(float(j['sensorValue']))\n",
    "\n",
    "\n",
    "for i in weather_data['weatherStations']:\n",
    "    for j in i['sensorValues']:\n",
    "        if j['name'] == 'ILMAN_KOSTEUS':\n",
    "            kosteus.append(float(j['sensorValue']))\n",
    "#print(kosteus)\n",
    "\n",
    "av_ilma = round(sum(ilma) / len(ilma),2)\n",
    "\n",
    "print('Average airtemperature is ' + str(av_ilma))\n",
    "\n",
    "av_kosteus = round(sum(kosteus) / len(kosteus),2)\n",
    "\n",
    "print('Average humidity is ' + str(av_kosteus))"
   ]
  }
 ],
 "metadata": {
  "kernelspec": {
   "display_name": "Python 3 (ipykernel)",
   "language": "python",
   "name": "python3"
  },
  "language_info": {
   "codemirror_mode": {
    "name": "ipython",
    "version": 3
   },
   "file_extension": ".py",
   "mimetype": "text/x-python",
   "name": "python",
   "nbconvert_exporter": "python",
   "pygments_lexer": "ipython3",
   "version": "3.9.13"
  }
 },
 "nbformat": 4,
 "nbformat_minor": 4
}
