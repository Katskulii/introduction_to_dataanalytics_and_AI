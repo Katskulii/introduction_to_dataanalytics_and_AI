{
 "cells": [
  {
   "cell_type": "markdown",
   "metadata": {},
   "source": [
    "## Exercise 6 - Numpy"
   ]
  },
  {
   "cell_type": "markdown",
   "metadata": {},
   "source": [
    "1 Generate two NumPy arrays so that first array has integers from 10 to 40 (inclusive). Second array should have integers from 220 to 250 (inclusive). Sum these arrays and present the result array."
   ]
  },
  {
   "cell_type": "code",
   "execution_count": 1,
   "metadata": {},
   "outputs": [],
   "source": [
    "import numpy as np"
   ]
  },
  {
   "cell_type": "code",
   "execution_count": 2,
   "metadata": {},
   "outputs": [
    {
     "data": {
      "text/plain": [
       "array([230, 232, 234, 236, 238, 240, 242, 244, 246, 248, 250, 252, 254,\n",
       "       256, 258, 260, 262, 264, 266, 268, 270, 272, 274, 276, 278, 280,\n",
       "       282, 284, 286, 288, 290])"
      ]
     },
     "execution_count": 2,
     "metadata": {},
     "output_type": "execute_result"
    }
   ],
   "source": [
    "arr1 = np.arange(10,41)\n",
    "arr2 = np.arange(220,251)\n",
    "\n",
    "arr3 = arr1 + arr2\n",
    "arr3"
   ]
  },
  {
   "cell_type": "markdown",
   "metadata": {},
   "source": [
    "2 Generate two-dimensional array with 10 rows and 7 columns containing integers starting from 100."
   ]
  },
  {
   "cell_type": "code",
   "execution_count": 3,
   "metadata": {},
   "outputs": [
    {
     "data": {
      "text/plain": [
       "array([[100, 101, 102, 103, 104, 105, 106],\n",
       "       [107, 108, 109, 110, 111, 112, 113],\n",
       "       [114, 115, 116, 117, 118, 119, 120],\n",
       "       [121, 122, 123, 124, 125, 126, 127],\n",
       "       [128, 129, 130, 131, 132, 133, 134],\n",
       "       [135, 136, 137, 138, 139, 140, 141],\n",
       "       [142, 143, 144, 145, 146, 147, 148],\n",
       "       [149, 150, 151, 152, 153, 154, 155],\n",
       "       [156, 157, 158, 159, 160, 161, 162],\n",
       "       [163, 164, 165, 166, 167, 168, 169]])"
      ]
     },
     "execution_count": 3,
     "metadata": {},
     "output_type": "execute_result"
    }
   ],
   "source": [
    "new_arr = np.arange(100, 170).reshape(10, 7)\n",
    "new_arr"
   ]
  },
  {
   "cell_type": "markdown",
   "metadata": {},
   "source": [
    "3 Generate two one-dimensional arrays having integers between 1-50. First array should have even and second array should have odd numbers. Finally multiply each element from corresponding index positions from these two arrays for the result array. For example [(1 x 2),(3 x 4),(5 x 6),(7 x 8)...]."
   ]
  },
  {
   "cell_type": "code",
   "execution_count": 4,
   "metadata": {},
   "outputs": [
    {
     "data": {
      "text/plain": [
       "array([   2,   12,   30,   56,   90,  132,  182,  240,  306,  380,  462,\n",
       "        552,  650,  756,  870,  992, 1122, 1260, 1406, 1560, 1722, 1892,\n",
       "       2070, 2256, 2450])"
      ]
     },
     "execution_count": 4,
     "metadata": {},
     "output_type": "execute_result"
    }
   ],
   "source": [
    "e_arr = np.arange(2, 51, 2)\n",
    "o_arr = np.arange(1, 51, 2)\n",
    "m_arr = e_arr * o_arr\n",
    "\n",
    "m_arr"
   ]
  },
  {
   "cell_type": "markdown",
   "metadata": {},
   "source": [
    "4 Generate two-dimensional array (40 rows, 5 columns) containing random integers between 1 and 1000. Filter the result array so that only numbers divisable with numbers 2 and 5 are presented (number must be divisable with both)."
   ]
  },
  {
   "cell_type": "code",
   "execution_count": 5,
   "metadata": {},
   "outputs": [
    {
     "data": {
      "text/plain": [
       "array([[368, 346, 804,  22,  23],\n",
       "       [680, 485, 390, 984, 401],\n",
       "       [609, 616, 510,  50, 586],\n",
       "       [943, 264,  74, 470, 108],\n",
       "       [325,  79,  48, 970, 101],\n",
       "       [206, 738, 338, 259, 109],\n",
       "       [200, 377, 789, 928, 809],\n",
       "       [245, 892, 673, 714, 788],\n",
       "       [853, 170, 710, 883,  19],\n",
       "       [499, 637, 800, 837, 688],\n",
       "       [313,  45, 439, 521, 867],\n",
       "       [638, 766, 270, 153,  39],\n",
       "       [826, 186, 863, 317, 706],\n",
       "       [783, 959,  61, 338, 955],\n",
       "       [ 21, 687,  41, 851, 310],\n",
       "       [972, 220, 486, 266, 125],\n",
       "       [318, 462, 537, 574, 959],\n",
       "       [268, 714, 468, 245, 735],\n",
       "       [310, 547, 347, 499, 937],\n",
       "       [324, 671,  39, 987, 461],\n",
       "       [559, 879, 208, 987, 752],\n",
       "       [947, 298, 990,   4, 290],\n",
       "       [126, 367,   6, 552, 830],\n",
       "       [289, 251,  66, 717, 251],\n",
       "       [ 81, 120, 191, 689, 363],\n",
       "       [403, 422,  55, 947, 743],\n",
       "       [721, 399, 820, 427, 862],\n",
       "       [366, 152, 879, 613, 429],\n",
       "       [521, 215, 825, 434, 552],\n",
       "       [496, 427, 760,  60, 911],\n",
       "       [642, 568,  59,  85, 359],\n",
       "       [204, 590, 328, 324, 115],\n",
       "       [ 17, 377, 609, 768, 978],\n",
       "       [  7, 455, 901, 377, 987],\n",
       "       [818, 433, 312, 868, 964],\n",
       "       [180, 239,   1, 203,  91],\n",
       "       [541,  13, 543, 109, 822],\n",
       "       [954, 848, 567, 888, 249],\n",
       "       [ 67, 961, 402,   3, 311],\n",
       "       [296, 235, 679, 676, 531]])"
      ]
     },
     "execution_count": 5,
     "metadata": {},
     "output_type": "execute_result"
    }
   ],
   "source": [
    "arr = np.random.randint(1,1000, size=(40, 5))\n",
    "arr"
   ]
  },
  {
   "cell_type": "code",
   "execution_count": 6,
   "metadata": {},
   "outputs": [
    {
     "data": {
      "text/plain": [
       "array([680, 390, 510,  50, 470, 970, 200, 170, 710, 800, 270, 310, 220,\n",
       "       310, 990, 290, 830, 120, 820, 760,  60, 590, 180])"
      ]
     },
     "execution_count": 6,
     "metadata": {},
     "output_type": "execute_result"
    }
   ],
   "source": [
    "arr[(arr % 2 == 0) & (arr % 5 == 0)]"
   ]
  }
 ],
 "metadata": {
  "kernelspec": {
   "display_name": "Python 3 (ipykernel)",
   "language": "python",
   "name": "python3"
  },
  "language_info": {
   "codemirror_mode": {
    "name": "ipython",
    "version": 3
   },
   "file_extension": ".py",
   "mimetype": "text/x-python",
   "name": "python",
   "nbconvert_exporter": "python",
   "pygments_lexer": "ipython3",
   "version": "3.9.13"
  },
  "vscode": {
   "interpreter": {
    "hash": "05cbb8e30cd2cbe161554e93617827c610928832f77224aad1765f5c87120ccf"
   }
  }
 },
 "nbformat": 4,
 "nbformat_minor": 4
}
